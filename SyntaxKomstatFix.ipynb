{
 "cells": [
  {
   "cell_type": "code",
   "execution_count": 33,
   "id": "4b8d12e4-90bb-40c3-81fa-5e06ce24f124",
   "metadata": {},
   "outputs": [],
   "source": [
    "import numpy as np\n",
    "import pandas as pd\n",
    "from arch.unitroot import ADF, PhillipsPerron, DFGLS"
   ]
  },
  {
   "cell_type": "code",
   "execution_count": 34,
   "id": "259ef64c-3760-43a0-9f07-5437419a9bd5",
   "metadata": {},
   "outputs": [],
   "source": [
    "#Fungsi untuk uji stasioneritas\n",
    "def stasionary_test(n_simulasi, n_daftar_sampel, daftar_alpha, trend):\n",
    "    penolakanH0_adf = np.zeros((len(n_daftar_sampel), len(daftar_alpha)))\n",
    "    penolakanH0_pp = np.zeros((len(n_daftar_sampel), len(daftar_alpha)))\n",
    "    penolakanH0_dfgls = np.zeros((len(n_daftar_sampel), len(daftar_alpha)))\n",
    "    alpha_empiris_adf = np.zeros((len(n_daftar_sampel), len(daftar_alpha)))\n",
    "    alpha_empiris_pp = np.zeros((len(n_daftar_sampel), len(daftar_alpha)))\n",
    "    alpha_empiris_dfgls = np.zeros((len(n_daftar_sampel), len(daftar_alpha)))\n",
    "\n",
    "    for i, n_sampel in enumerate(n_daftar_sampel):\n",
    "        for j, alpha in enumerate(daftar_alpha):\n",
    "            H0_ditolak_adf = 0\n",
    "            H0_ditolak_pp = 0\n",
    "            H0_ditolak_dfgls = 0\n",
    "            alphaempiris_adf = 0\n",
    "            alphaempiris_pp = 0\n",
    "            alphaempiris_dfgls = 0\n",
    "            for _ in range(n_simulasi):\n",
    "                np.random.seed()\n",
    "                epsilon = np.random.normal(size=n_sampel)\n",
    "                data = np.cumsum(epsilon) + trend * np.arange(n_sampel)\n",
    "\n",
    "                # ADF test\n",
    "                adf = ADF(data)\n",
    "                if adf.pvalue < alpha:\n",
    "                    H0_ditolak_adf += 1\n",
    "                    alphaempiris_adf += 1\n",
    "\n",
    "                # Phillips-Perron test\n",
    "                pp = PhillipsPerron(data)\n",
    "                if pp.pvalue < alpha:\n",
    "                    H0_ditolak_pp += 1\n",
    "                    alphaempiris_pp += 1\n",
    "\n",
    "                # DF-GLS test\n",
    "                dfgls = DFGLS(data)\n",
    "                if dfgls.pvalue < alpha:\n",
    "                    H0_ditolak_dfgls += 1\n",
    "                    alphaempiris_dfgls += 1\n",
    "\n",
    "            penolakanH0_adf[i, j] = H0_ditolak_adf\n",
    "            penolakanH0_pp[i, j] = H0_ditolak_pp\n",
    "            penolakanH0_dfgls[i, j] = H0_ditolak_dfgls\n",
    "            alpha_empiris_adf[i, j] = alphaempiris_adf / n_simulasi\n",
    "            alpha_empiris_pp[i, j] = alphaempiris_pp / n_simulasi\n",
    "            alpha_empiris_dfgls[i, j] = alphaempiris_dfgls / n_simulasi\n",
    "\n",
    "    return penolakanH0_adf, penolakanH0_pp, penolakanH0_dfgls, alpha_empiris_adf, alpha_empiris_pp, alpha_empiris_dfgls"
   ]
  },
  {
   "cell_type": "code",
   "execution_count": 35,
   "id": "98ad3c9c-8056-4ce0-ae31-6f5c696ca07c",
   "metadata": {},
   "outputs": [],
   "source": [
    "# Parameter simulasi\n",
    "n_simulasi = 1000\n",
    "n_daftar_sampel = [50, 100, 150, 200, 500]\n",
    "daftar_alpha = [0.01, 0.05, 0.10, 0.25, 0.5]\n",
    "trend = 0.05"
   ]
  },
  {
   "cell_type": "code",
   "execution_count": 36,
   "id": "e38656ef-70e8-4e71-b94f-6881b15df3c9",
   "metadata": {},
   "outputs": [],
   "source": [
    "# Menghitung kekuatan uji\n",
    "penolakanH0_adf, penolakanH0_pp, penolakanH0_dfgls, alpha_empiris_adf, alpha_empiris_pp, alpha_empiris_dfgls = stasionary_test(n_simulasi, n_daftar_sampel, daftar_alpha, trend)"
   ]
  },
  {
   "cell_type": "code",
   "execution_count": 37,
   "id": "bfe557ad-7c4b-42ed-8e64-3b79978cedf7",
   "metadata": {},
   "outputs": [
    {
     "name": "stdout",
     "output_type": "stream",
     "text": [
      "H0 ditolak untuk ADF test:\n",
      "     0.01  0.05   0.10   0.25   0.50\n",
      "50   29.0  87.0  130.0  279.0  507.0\n",
      "100  18.0  85.0   95.0  275.0  482.0\n",
      "150  14.0  46.0   92.0  240.0  484.0\n",
      "200  12.0  38.0  111.0  228.0  443.0\n",
      "500   5.0  42.0   79.0  209.0  403.0\n",
      "\n",
      "Alpha Empirisi dari ADF test:\n",
      "      0.01   0.05   0.10   0.25   0.50\n",
      "50   0.029  0.087  0.130  0.279  0.507\n",
      "100  0.018  0.085  0.095  0.275  0.482\n",
      "150  0.014  0.046  0.092  0.240  0.484\n",
      "200  0.012  0.038  0.111  0.228  0.443\n",
      "500  0.005  0.042  0.079  0.209  0.403\n",
      "\n",
      "H0 ditolak untuk Phillips-Perron test:\n",
      "     0.01  0.05   0.10   0.25   0.50\n",
      "50   18.0  60.0   78.0  247.0  505.0\n",
      "100  12.0  70.0   97.0  270.0  507.0\n",
      "150   9.0  43.0  104.0  254.0  487.0\n",
      "200  12.0  47.0  109.0  246.0  454.0\n",
      "500   8.0  44.0   90.0  224.0  409.0\n",
      "\n",
      "Alpha Empirisi dari Phillips-Perron test:\n",
      "      0.01   0.05   0.10   0.25   0.50\n",
      "50   0.018  0.060  0.078  0.247  0.505\n",
      "100  0.012  0.070  0.097  0.270  0.507\n",
      "150  0.009  0.043  0.104  0.254  0.487\n",
      "200  0.012  0.047  0.109  0.246  0.454\n",
      "500  0.008  0.044  0.090  0.224  0.409\n",
      "\n",
      "H0 ditolak untuk DF-GLS test:\n",
      "     0.01   0.05   0.10   0.25   0.50\n",
      "50   39.0  119.0  196.0  458.0  716.0\n",
      "100  19.0   86.0  148.0  332.0  588.0\n",
      "150  15.0   51.0  102.0  253.0  539.0\n",
      "200  14.0   45.0  111.0  246.0  455.0\n",
      "500   5.0   23.0   62.0  159.0  298.0\n",
      "\n",
      "Alpha Empirisi dari DF-GLS test:\n",
      "      0.01   0.05   0.10   0.25   0.50\n",
      "50   0.039  0.119  0.196  0.458  0.716\n",
      "100  0.019  0.086  0.148  0.332  0.588\n",
      "150  0.015  0.051  0.102  0.253  0.539\n",
      "200  0.014  0.045  0.111  0.246  0.455\n",
      "500  0.005  0.023  0.062  0.159  0.298\n"
     ]
    }
   ],
   "source": [
    "# Menampilkan keseluruhan hasil simulasi\n",
    "print(\"H0 ditolak untuk ADF test:\")\n",
    "print(pd.DataFrame(penolakanH0_adf, index=n_daftar_sampel, columns=daftar_alpha))\n",
    "print(\"\\nAlpha Empirisi dari ADF test:\")\n",
    "print(pd.DataFrame(alpha_empiris_adf, index=n_daftar_sampel, columns=daftar_alpha))\n",
    "\n",
    "print(\"\\nH0 ditolak untuk Phillips-Perron test:\")\n",
    "print(pd.DataFrame(penolakanH0_pp, index=n_daftar_sampel, columns=daftar_alpha))\n",
    "print(\"\\nAlpha Empirisi dari Phillips-Perron test:\")\n",
    "print(pd.DataFrame(alpha_empiris_pp, index=n_daftar_sampel, columns=daftar_alpha))\n",
    "\n",
    "print(\"\\nH0 ditolak untuk DF-GLS test:\")\n",
    "print(pd.DataFrame(penolakanH0_dfgls, index=n_daftar_sampel, columns=daftar_alpha))\n",
    "print(\"\\nAlpha Empirisi dari DF-GLS test:\")\n",
    "print(pd.DataFrame(alpha_empiris_dfgls, index=n_daftar_sampel, columns=daftar_alpha))"
   ]
  },
  {
   "cell_type": "code",
   "execution_count": null,
   "id": "5f1e9635-4db3-400b-8470-70140ba747af",
   "metadata": {},
   "outputs": [],
   "source": []
  }
 ],
 "metadata": {
  "kernelspec": {
   "display_name": "Python 3 (ipykernel)",
   "language": "python",
   "name": "python3"
  },
  "language_info": {
   "codemirror_mode": {
    "name": "ipython",
    "version": 3
   },
   "file_extension": ".py",
   "mimetype": "text/x-python",
   "name": "python",
   "nbconvert_exporter": "python",
   "pygments_lexer": "ipython3",
   "version": "3.11.7"
  }
 },
 "nbformat": 4,
 "nbformat_minor": 5
}
